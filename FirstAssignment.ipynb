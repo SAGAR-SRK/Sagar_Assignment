{
  "nbformat": 4,
  "nbformat_minor": 0,
  "metadata": {
    "colab": {
      "provenance": [],
      "collapsed_sections": []
    },
    "kernelspec": {
      "name": "python3",
      "display_name": "Python 3"
    },
    "language_info": {
      "name": "python"
    }
  },
  "cells": [
    {
      "cell_type": "code",
      "execution_count": null,
      "metadata": {
        "colab": {
          "base_uri": "https://localhost:8080/"
        },
        "id": "wjeImX1zgEpb",
        "outputId": "5f84e071-3a79-49eb-daca-2339e6fc374a"
      },
      "outputs": [
        {
          "output_type": "stream",
          "name": "stdout",
          "text": [
            "Enter the Value of N: 10\n",
            "Sum of 1 to 10 is 55 \n"
          ]
        }
      ],
      "source": [
        "sum=0\n",
        "N=int(input(\"Enter the Value of N: \"))\n",
        "for i in range(1,N+1):\n",
        "  sum=sum+i;\n",
        "print(\"Sum of 1 to {} is {} \".format(N,sum))\n"
      ]
    },
    {
      "cell_type": "code",
      "source": [
        "A=int(input(\"Enter thre principle Amount: \"))\n",
        "T=int(input(\"Enter the time period in Years: \"))\n",
        "R=float(input(\"Enter the Annual Interest Rate: \"))\n",
        "SI=((A*T*R)/100)\n",
        "print(\"Simple Interest is {}\".format(SI))"
      ],
      "metadata": {
        "colab": {
          "base_uri": "https://localhost:8080/"
        },
        "id": "hG1W0iabhvxm",
        "outputId": "a16443c7-3d0c-4218-e0c4-7b0d490666f4"
      },
      "execution_count": null,
      "outputs": [
        {
          "output_type": "stream",
          "name": "stdout",
          "text": [
            "Enter thre principle Amount: 1000\n",
            "Enter the time period in Years: 2\n",
            "Enter the Annual Interest Rate: 5\n",
            "Simple Interest is 100.0\n"
          ]
        }
      ]
    }
  ]
}