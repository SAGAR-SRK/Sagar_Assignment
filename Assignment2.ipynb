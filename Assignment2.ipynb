{
  "nbformat": 4,
  "nbformat_minor": 0,
  "metadata": {
    "colab": {
      "provenance": []
    },
    "kernelspec": {
      "name": "python3",
      "display_name": "Python 3"
    },
    "language_info": {
      "name": "python"
    }
  },
  "cells": [
    {
      "cell_type": "code",
      "execution_count": null,
      "metadata": {
        "colab": {
          "base_uri": "https://localhost:8080/"
        },
        "id": "CTx0PJ3uLUkj",
        "outputId": "9995ab28-a95c-4cfb-d624-fa6fa9464f13"
      },
      "outputs": [
        {
          "output_type": "stream",
          "name": "stdout",
          "text": [
            "5 * 1 = 5 \n",
            "5 * 2 = 10 \n",
            "5 * 3 = 15 \n",
            "5 * 4 = 20 \n",
            "5 * 5 = 25 \n",
            "5 * 6 = 30 \n",
            "5 * 7 = 35 \n",
            "5 * 8 = 40 \n",
            "5 * 9 = 45 \n",
            "5 * 10 = 50 \n",
            "\n",
            "6 * 1 = 6 \n",
            "6 * 2 = 12 \n",
            "6 * 3 = 18 \n",
            "6 * 4 = 24 \n",
            "6 * 5 = 30 \n",
            "6 * 6 = 36 \n",
            "6 * 7 = 42 \n",
            "6 * 8 = 48 \n",
            "6 * 9 = 54 \n",
            "6 * 10 = 60 \n",
            "\n",
            "7 * 1 = 7 \n",
            "7 * 2 = 14 \n",
            "7 * 3 = 21 \n",
            "7 * 4 = 28 \n",
            "7 * 5 = 35 \n",
            "7 * 6 = 42 \n",
            "7 * 7 = 49 \n",
            "7 * 8 = 56 \n",
            "7 * 9 = 63 \n",
            "7 * 10 = 70 \n",
            "\n",
            "8 * 1 = 8 \n",
            "8 * 2 = 16 \n",
            "8 * 3 = 24 \n",
            "8 * 4 = 32 \n",
            "8 * 5 = 40 \n",
            "8 * 6 = 48 \n",
            "8 * 7 = 56 \n",
            "8 * 8 = 64 \n",
            "8 * 9 = 72 \n",
            "8 * 10 = 80 \n",
            "\n",
            "9 * 1 = 9 \n",
            "9 * 2 = 18 \n",
            "9 * 3 = 27 \n",
            "9 * 4 = 36 \n",
            "9 * 5 = 45 \n",
            "9 * 6 = 54 \n",
            "9 * 7 = 63 \n",
            "9 * 8 = 72 \n",
            "9 * 9 = 81 \n",
            "9 * 10 = 90 \n",
            "\n",
            "10 * 1 = 10 \n",
            "10 * 2 = 20 \n",
            "10 * 3 = 30 \n",
            "10 * 4 = 40 \n",
            "10 * 5 = 50 \n",
            "10 * 6 = 60 \n",
            "10 * 7 = 70 \n",
            "10 * 8 = 80 \n",
            "10 * 9 = 90 \n",
            "10 * 10 = 100 \n"
          ]
        }
      ],
      "source": [
        "def fivetable():\n",
        "  for i in range(1,11):\n",
        "    mul=5*i;\n",
        "    print(\"5 * {} = {} \".format(i,mul))\n",
        "def sixtable():\n",
        "  for i in range(1,11):\n",
        "    mul=6*i;\n",
        "    print(\"6 * {} = {} \".format(i,mul))\n",
        "def seventable():\n",
        "  for i in range(1,11):\n",
        "    mul=7*i;\n",
        "    print(\"7 * {} = {} \".format(i,mul))\n",
        "def eighttable():\n",
        "  for i in range(1,11):\n",
        "    mul=8*i;\n",
        "    print(\"8 * {} = {} \".format(i,mul))\n",
        "def ninetable():\n",
        "  for i in range(1,11):\n",
        "    mul=9*i;\n",
        "    print(\"9 * {} = {} \".format(i,mul))\n",
        "def tentable():\n",
        "  for i in range(1,11):\n",
        "    mul=10*i;\n",
        "    print(\"10 * {} = {} \".format(i,mul))\n",
        "fivetable()\n",
        "print()\n",
        "sixtable()\n",
        "print()\n",
        "seventable()\n",
        "print()\n",
        "eighttable()\n",
        "print()\n",
        "ninetable()\n",
        "print()\n",
        "tentable()\n"
      ]
    },
    {
      "cell_type": "code",
      "source": [
        "N=int(input (\"Nth Value: \"))\n",
        "def natural(N):\n",
        "    for i in range(1,N+1):\n",
        "      print(\"{}\".format(i))\n",
        "  \n",
        "natural(N)\n"
      ],
      "metadata": {
        "colab": {
          "base_uri": "https://localhost:8080/"
        },
        "id": "HqP3crXqNL7i",
        "outputId": "dd16779c-89a3-41b0-b67d-f37c01d53a6f"
      },
      "execution_count": null,
      "outputs": [
        {
          "output_type": "stream",
          "name": "stdout",
          "text": [
            "Nth Value: 25\n",
            "1\n",
            "2\n",
            "3\n",
            "4\n",
            "5\n",
            "6\n",
            "7\n",
            "8\n",
            "9\n",
            "10\n",
            "11\n",
            "12\n",
            "13\n",
            "14\n",
            "15\n",
            "16\n",
            "17\n",
            "18\n",
            "19\n",
            "20\n",
            "21\n",
            "22\n",
            "23\n",
            "24\n",
            "25\n"
          ]
        }
      ]
    }
  ]
}